{
 "cells": [
  {
   "cell_type": "markdown",
   "metadata": {},
   "source": [
    "<img src=\"https://bit.ly/2VnXWr2\" width=\"100\" align=\"left\">"
   ]
  },
  {
   "cell_type": "markdown",
   "metadata": {},
   "source": [
    "# Rock, Paper & Scissors\n",
    "\n",
    "Let's play the famous game against our computer. You can check the rules [here](https://en.wikipedia.org/wiki/Rock%E2%80%93paper%E2%80%93scissors). \n",
    "\n",
    "## Task\n",
    "Create a program that imitates the playability of the well known game of rock, paper, scissors. Follow the guidelines provided.\n",
    "\n",
    "## Tools\n",
    "1. Loop: **for/while**\n",
    "2. Functions: **input(), print()...**\n",
    "3. Conditional statements: **if, elif, else**\n",
    "4. Definition of functions. Modular programming\n",
    "5. Import modules\n",
    "\n",
    "**To solve this challenge, the use of functions is recommended.**\n",
    "\n",
    "#### 1. Import the choice function of the random module."
   ]
  },
  {
   "cell_type": "code",
   "execution_count": 1,
   "metadata": {},
   "outputs": [],
   "source": [
    "from random import choice"
   ]
  },
  {
   "cell_type": "markdown",
   "metadata": {},
   "source": [
    "#### 2. Create a list that includes the 3 possible gesture options of the game: 'rock', 'paper' or 'scissors'. Store the list in a variable called `gestures`."
   ]
  },
  {
   "cell_type": "code",
   "execution_count": 2,
   "metadata": {},
   "outputs": [],
   "source": [
    "# seçenekleri oluşturduk\n",
    "gestures = ['rock', 'paper', 'scissors']"
   ]
  },
  {
   "cell_type": "markdown",
   "metadata": {},
   "source": [
    "#### 3. Create a variable called `n_rounds` to store the maximum number of rounds to play in a game. \n",
    "Remember that the number of rounds must be odd: 1, 3, 5, ..."
   ]
  },
  {
   "cell_type": "code",
   "execution_count": 3,
   "metadata": {},
   "outputs": [],
   "source": [
    "# toplam raund sayısı (dikkat tek sayı olmalı)\n",
    "n_rounds = 5 # keyfi olarak 5 dedik"
   ]
  },
  {
   "cell_type": "markdown",
   "metadata": {},
   "source": [
    "#### 4. Create a variable called `rounds_to_win` to store the number of rounds that a player must win to win the game.\n",
    "**Hint**: the value stored in `rounds_to_win` depends on the value of `n_rounds`. "
   ]
  },
  {
   "cell_type": "code",
   "execution_count": 4,
   "metadata": {},
   "outputs": [],
   "source": [
    "# bilgisayar veya oyuncu kaç kez kazanırsa oyun sonlanır\n",
    "rounds_to_win = 3"
   ]
  },
  {
   "cell_type": "markdown",
   "metadata": {},
   "source": [
    "#### 5. Create two variables to store the number of rounds that the computer and the player have won. Call these variables `cpu_score` and `player_score`."
   ]
  },
  {
   "cell_type": "code",
   "execution_count": 17,
   "metadata": {},
   "outputs": [],
   "source": [
    "cpu_score = player_score = 0 # bilgisayar ve oyuncunun skorları oluştu"
   ]
  },
  {
   "cell_type": "markdown",
   "metadata": {},
   "source": [
    "#### 6. Define a function that randomly returns one of the 3 gesture options.\n",
    "You will use this function to simulate the gesture choice of the computer. "
   ]
  },
  {
   "cell_type": "code",
   "execution_count": 6,
   "metadata": {},
   "outputs": [
    {
     "data": {
      "text/plain": [
       "'paper'"
      ]
     },
     "execution_count": 6,
     "metadata": {},
     "output_type": "execute_result"
    }
   ],
   "source": [
    "def get_gesture(gesture_list):\n",
    "    \"\"\"\n",
    "    Seçenek listesinden rasgele seçenek seçmesini ve döndürmesini sağlayan fonlsiyon\n",
    "    \"\"\"\n",
    "    return choice(gesture_list)\n",
    "\n",
    "# Test my function\n",
    "get_gesture(gestures)"
   ]
  },
  {
   "cell_type": "markdown",
   "metadata": {},
   "source": [
    "#### 7. Define a function that asks the player which is the gesture he or she wants to show: 'rock', 'paper' or 'scissors'.\n",
    "The player should only be allowed to choose one of the 3 gesture options. If the player's choice is not rock, paper or scissors, keep asking until it is."
   ]
  },
  {
   "cell_type": "code",
   "execution_count": 11,
   "metadata": {},
   "outputs": [
    {
     "name": "stdin",
     "output_type": "stream",
     "text": [
      "Which do you want gesture?\n",
      "[0]rock\n",
      "[1]paper\n",
      "[2]scissors\n",
      " x\n",
      "Which do you want gesture?\n",
      "[0]rock\n",
      "[1]paper\n",
      "[2]scissors\n",
      " a\n",
      "Which do you want gesture?\n",
      "[0]rock\n",
      "[1]paper\n",
      "[2]scissors\n",
      " 0\n"
     ]
    },
    {
     "data": {
      "text/plain": [
       "'rock'"
      ]
     },
     "execution_count": 11,
     "metadata": {},
     "output_type": "execute_result"
    }
   ],
   "source": [
    "def ask_gesture():\n",
    "    \"\"\"\n",
    "    Kullanıcıya hangi seçeneği seçme istediğinin sorulduğu fonksiyon.\n",
    "    # Burada seçenek doğru seçilmediği sürece tekrar sorulmuştur. Bu sayede oyuncunun seçeneği oluşturulmadan program devam edilmeyecektir.\n",
    "    \"\"\"\n",
    "    while True:\n",
    "        gesture = input(\"Which do you want gesture?\\n[0]rock\\n[1]paper\\n[2]scissors\\n\")\n",
    "        if gesture in [\"0\", \"1\", \"2\"]: # eğer girilen seçenek 0, 1, 2 değerlerinden biri ise seçeneklere göre değerleri döndür.\n",
    "            if gesture == \"0\":\n",
    "                return \"rock\"\n",
    "            elif gesture == \"1\":\n",
    "                return \"paper\"\n",
    "            elif gesture == \"2\":\n",
    "                return \"scissors\"\n",
    "        print(\"Wrong option. Please Try Again.\") # değilse döngüyü tekrar başlat\n",
    "\n",
    "# Test my function\n",
    "ask_gesture()"
   ]
  },
  {
   "cell_type": "markdown",
   "metadata": {},
   "source": [
    "#### 8. Define a function that checks who won a round. \n",
    "The function should return 0 if there is a tie, 1 if the computer wins and 2 if the player wins."
   ]
  },
  {
   "cell_type": "code",
   "execution_count": 12,
   "metadata": {},
   "outputs": [
    {
     "data": {
      "text/plain": [
       "2"
      ]
     },
     "execution_count": 12,
     "metadata": {},
     "output_type": "execute_result"
    }
   ],
   "source": [
    "def who_win(g_cpu, g_user):\n",
    "    \"\"\"\n",
    "    Taş makas kağıt oyununun oynandığı fonksiyon.\n",
    "    Burada değer olarak döndürülen 0 değeri beraberlik olduğunu, \n",
    "    1 değeri bilgisayarın kazandığını,\n",
    "    2 değeri ise oyuncunun kazandığını temsil etmektedir.\n",
    "    \"\"\"\n",
    "    if g_cpu == \"rock\" and g_user == \"rock\": return 0\n",
    "    elif g_cpu == \"rock\" and g_user == \"scissors\": return 1\n",
    "    elif g_cpu == \"rock\" and g_user == \"paper\": return 2\n",
    "    elif g_cpu == \"scissors\" and g_user == \"scissors\": return 0\n",
    "    elif g_cpu == \"scissors\" and g_user == \"paper\": return 1\n",
    "    elif g_cpu == \"scissors\" and g_user == \"rock\": return 2\n",
    "    elif g_cpu == \"paper\" and g_user == \"paper\": return 0\n",
    "    elif g_cpu == \"paper\" and g_user == \"rock\": return 1\n",
    "    elif g_cpu == \"paper\" and g_user == \"scissors\": return 2\n",
    "\n",
    "# Test my function\n",
    "who_win(\"rock\", \"paper\")"
   ]
  },
  {
   "cell_type": "markdown",
   "metadata": {},
   "source": [
    "#### 9. Define a function that prints the choice of the computer, the choice of the player and a message that announces who won the current round. \n",
    "You should also use this function to update the variables that count the number of rounds that the computer and the player have won. The score of the winner increases by one point. If there is a tie, the score does not increase."
   ]
  },
  {
   "cell_type": "code",
   "execution_count": 13,
   "metadata": {},
   "outputs": [
    {
     "name": "stdout",
     "output_type": "stream",
     "text": [
      "The choice of the computer: rock\n",
      "The choice of the user: paper\n",
      "User wins\n"
     ]
    },
    {
     "data": {
      "text/plain": [
       "2"
      ]
     },
     "execution_count": 13,
     "metadata": {},
     "output_type": "execute_result"
    }
   ],
   "source": [
    "def game_result(cpu_guess, user_guess, win_result):\n",
    "    \"\"\"\n",
    "    Oynanan oyunun raporlandığı fonksiyondur.\n",
    "    3. parametre olan win_result parametresi who_win() fonksiyonunun çıktısındaki değeri baz alır.\n",
    "    \"\"\"\n",
    "    print(\"The choice of the computer:\", cpu_guess)\n",
    "    print(\"The choice of the user:\", user_guess)\n",
    "    if win_result == 0:\n",
    "        print(\"Tie\")\n",
    "    elif win_result == 1:\n",
    "        print(\"Cpu wins\")\n",
    "    elif win_result == 2:\n",
    "        print(\"User wins\")\n",
    "    return win_result\n",
    "\n",
    "# Test my function\n",
    "game_result(\"rock\", \"paper\", who_win(\"rock\", \"paper\"))"
   ]
  },
  {
   "cell_type": "markdown",
   "metadata": {},
   "source": [
    "#### 10. Now it's time to code the execution of the game using the functions and variables you defined above. \n",
    "\n",
    "First, create a loop structure that repeats while no player reaches the minimum score necessary to win and the number of rounds is less than the maximum number of rounds to play in a game.  \n",
    "\n",
    "Inside the loop, use the functions and variables above to create the execution of a round: ask for the player's choice, generate the random choice of the computer, show the round results, update the scores, etc. "
   ]
  },
  {
   "cell_type": "code",
   "execution_count": 18,
   "metadata": {},
   "outputs": [
    {
     "name": "stdin",
     "output_type": "stream",
     "text": [
      "Which do you want gesture?\n",
      "[0]rock\n",
      "[1]paper\n",
      "[2]scissors\n",
      " 1\n"
     ]
    },
    {
     "name": "stdout",
     "output_type": "stream",
     "text": [
      "The choice of the computer: rock\n",
      "The choice of the user: paper\n",
      "User wins\n"
     ]
    },
    {
     "name": "stdin",
     "output_type": "stream",
     "text": [
      "Which do you want gesture?\n",
      "[0]rock\n",
      "[1]paper\n",
      "[2]scissors\n",
      " 2\n"
     ]
    },
    {
     "name": "stdout",
     "output_type": "stream",
     "text": [
      "The choice of the computer: scissors\n",
      "The choice of the user: scissors\n",
      "Tie\n"
     ]
    },
    {
     "name": "stdin",
     "output_type": "stream",
     "text": [
      "Which do you want gesture?\n",
      "[0]rock\n",
      "[1]paper\n",
      "[2]scissors\n",
      " 1\n"
     ]
    },
    {
     "name": "stdout",
     "output_type": "stream",
     "text": [
      "The choice of the computer: paper\n",
      "The choice of the user: paper\n",
      "Tie\n"
     ]
    },
    {
     "name": "stdin",
     "output_type": "stream",
     "text": [
      "Which do you want gesture?\n",
      "[0]rock\n",
      "[1]paper\n",
      "[2]scissors\n",
      " 3\n",
      "Which do you want gesture?\n",
      "[0]rock\n",
      "[1]paper\n",
      "[2]scissors\n",
      " 0\n"
     ]
    },
    {
     "name": "stdout",
     "output_type": "stream",
     "text": [
      "The choice of the computer: paper\n",
      "The choice of the user: rock\n",
      "Cpu wins\n"
     ]
    },
    {
     "name": "stdin",
     "output_type": "stream",
     "text": [
      "Which do you want gesture?\n",
      "[0]rock\n",
      "[1]paper\n",
      "[2]scissors\n",
      " 0\n"
     ]
    },
    {
     "name": "stdout",
     "output_type": "stream",
     "text": [
      "The choice of the computer: scissors\n",
      "The choice of the user: rock\n",
      "User wins\n"
     ]
    }
   ],
   "source": [
    "is_game_over = False # bayrak değişken: Oyunun bitip bitmediğini akış içerisinde değiştirmemizi sağlar.\n",
    "game_round = 0 # mevcut oyunun raund değeri\n",
    "while not is_game_over: # oyun bitmediği sürece\n",
    "    cpu_choice = get_gesture(gestures) # bilgisayarın değerini tahmin et\n",
    "    player_choice = ask_gesture() # kullanıcıdan değer iste\n",
    "    result = game_result(cpu_choice, player_choice, who_win(cpu_choice, player_choice)) # sonucu hesapla ve raporla\n",
    "    if result == 0: # eğer durum berabere ise hiçbir şey yapma\n",
    "        pass\n",
    "    elif result == 1: # eğer cpu kazandıysa skorunu 1 artır\n",
    "        cpu_score += 1\n",
    "    elif result == 2: # eğer oyuncu kazandıysa skorunu 1 artır\n",
    "        player_score += 1\n",
    "    game_round += 1 # oyun raundunu bir artır\n",
    "    if game_round == n_rounds or cpu_score == rounds_to_win or player_score == rounds_to_win:\n",
    "        is_game_over = True # eğer oyun raundu belirlenen raund sayısına eşit veya cpu veya oyuncu skorlarından herhangi biri kazanma sayısına eşit ise oyunu bitir\n",
    "        print(\"Game Over\")"
   ]
  },
  {
   "cell_type": "markdown",
   "metadata": {},
   "source": [
    "#### 11. Print the winner of the game based on who won more rounds.\n",
    "Remember that the game might be tied. "
   ]
  },
  {
   "cell_type": "code",
   "execution_count": 15,
   "metadata": {},
   "outputs": [
    {
     "name": "stdout",
     "output_type": "stream",
     "text": [
      "Cpu Won The Game\n"
     ]
    }
   ],
   "source": [
    "if player_score > cpu_score: # eğer toplam oyuncu skoru toplam cpu skorundan fazla ise oyuncu kazandı\n",
    "    print(\"Player Won The Game\") \n",
    "elif player_score < cpu_score:\n",
    "    print(\"Cpu Won The Game\") # eğer toplam cpu skoru toplam oyuncu skorundan fazla ise cpu kazandı\n",
    "else:\n",
    "    print(\"Tie\")"
   ]
  },
  {
   "cell_type": "markdown",
   "metadata": {},
   "source": [
    "# Bonus: Rock, Paper, Scissors, Lizard & Spock\n",
    "![](images/rpsls.jpg)\n",
    "\n",
    "In this challenge, you need to improve the previous game by adding two new options. To know more about the rules of the improved version of rock, paper, scissors, check this [link](http://www.samkass.com/theories/RPSSL.html). \n",
    "\n",
    "In addition, you will also need to improve how the game interacts with the player: the number of rounds to play, which must be an odd number, will be requested to the user until a valid number is entered. Define a new function to make that request.\n",
    "\n",
    "**Hint**: Try to reuse the code that you already coded in the previous challenge. If your code is efficient, this bonus will only consist of simple modifications to the original game."
   ]
  },
  {
   "cell_type": "code",
   "execution_count": 20,
   "metadata": {},
   "outputs": [
    {
     "name": "stdin",
     "output_type": "stream",
     "text": [
      "Number of rounds to be played (must be odd):  8\n",
      "How many rounds are needed to win (must be odd):  2\n"
     ]
    },
    {
     "name": "stdout",
     "output_type": "stream",
     "text": [
      "\n",
      "Please Try Again.\n",
      "\n"
     ]
    },
    {
     "name": "stdin",
     "output_type": "stream",
     "text": [
      "Number of rounds to be played (must be odd):  5\n",
      "How many rounds are needed to win (must be odd):  4\n"
     ]
    },
    {
     "name": "stdout",
     "output_type": "stream",
     "text": [
      "\n",
      "Please Try Again.\n",
      "\n"
     ]
    },
    {
     "name": "stdin",
     "output_type": "stream",
     "text": [
      "Number of rounds to be played (must be odd):  5\n",
      "How many rounds are needed to win (must be odd):  3\n",
      "Which do you want gesture?\n",
      "[0]rock\n",
      "[1]paper\n",
      "[2]scissors\n",
      "[3]lizard\n",
      "[4]spock\n",
      " 2\n"
     ]
    },
    {
     "name": "stdout",
     "output_type": "stream",
     "text": [
      "The choice of the computer: scissors\n",
      "The choice of the user: scissors\n",
      "Tie\n"
     ]
    },
    {
     "name": "stdin",
     "output_type": "stream",
     "text": [
      "Which do you want gesture?\n",
      "[0]rock\n",
      "[1]paper\n",
      "[2]scissors\n",
      "[3]lizard\n",
      "[4]spock\n",
      " 3\n"
     ]
    },
    {
     "name": "stdout",
     "output_type": "stream",
     "text": [
      "The choice of the computer: scissors\n",
      "The choice of the user: lizard\n",
      "Cpu wins\n"
     ]
    },
    {
     "name": "stdin",
     "output_type": "stream",
     "text": [
      "Which do you want gesture?\n",
      "[0]rock\n",
      "[1]paper\n",
      "[2]scissors\n",
      "[3]lizard\n",
      "[4]spock\n",
      " 4\n"
     ]
    },
    {
     "name": "stdout",
     "output_type": "stream",
     "text": [
      "The choice of the computer: rock\n",
      "The choice of the user: spock\n",
      "User wins\n"
     ]
    },
    {
     "name": "stdin",
     "output_type": "stream",
     "text": [
      "Which do you want gesture?\n",
      "[0]rock\n",
      "[1]paper\n",
      "[2]scissors\n",
      "[3]lizard\n",
      "[4]spock\n",
      " 1\n"
     ]
    },
    {
     "name": "stdout",
     "output_type": "stream",
     "text": [
      "The choice of the computer: paper\n",
      "The choice of the user: paper\n",
      "Tie\n"
     ]
    },
    {
     "name": "stdin",
     "output_type": "stream",
     "text": [
      "Which do you want gesture?\n",
      "[0]rock\n",
      "[1]paper\n",
      "[2]scissors\n",
      "[3]lizard\n",
      "[4]spock\n",
      " 0\n"
     ]
    },
    {
     "name": "stdout",
     "output_type": "stream",
     "text": [
      "The choice of the computer: rock\n",
      "The choice of the user: rock\n",
      "Tie\n",
      "Tie\n"
     ]
    }
   ],
   "source": [
    "from random import choice\n",
    "\n",
    "GESTURES = ['rock', 'paper', 'scissors', 'lizard', 'spock']\n",
    "\n",
    "def ask_round_number():\n",
    "    \"\"\"\n",
    "    Bonus bölüme özel olarak oluşturulan bu fonksiyonun amacı n_rounds ve rounds_to_win değişkenlerini tanımlamak.\n",
    "    Burada üç kontrol yapısı var:\n",
    "        1. eğer n_rounds değeri rounds_to_win değerinden eşit ve büyük ise\n",
    "        2. n_rounds değeri tek ise\n",
    "        3. rounds_to_win değeri tek ise değerlerin oluşturulmasına müsade edilmektedir. Harici durumlarda yeniden oluşturulmaktadır.\n",
    "    \"\"\"\n",
    "    while True:\n",
    "        n_rounds = int(input(\"Number of rounds to be played (must be odd): \"))\n",
    "        rounds_to_win = int(input(\"How many rounds are needed to win (must be odd): \"))\n",
    "        if n_rounds >= rounds_to_win and n_rounds % 2 != 0 and rounds_to_win % 2 != 0:\n",
    "            return n_rounds, rounds_to_win\n",
    "        print(\"\\nPlease Try Again.\\n\")\n",
    "\n",
    "def get_gesture(gesture_list):\n",
    "    return choice(gesture_list)\n",
    "\n",
    "def ask_gesture():\n",
    "    while True:\n",
    "        gesture = input(\"Which do you want gesture?\\n[0]rock\\n[1]paper\\n[2]scissors\\n[3]lizard\\n[4]spock\\n\")\n",
    "        if gesture in [\"0\", \"1\", \"2\", \"3\", \"4\"]:\n",
    "            if gesture == \"0\":\n",
    "                return \"rock\"\n",
    "            elif gesture == \"1\":\n",
    "                return \"paper\"\n",
    "            elif gesture == \"2\":\n",
    "                return \"scissors\"\n",
    "            elif gesture == \"3\":\n",
    "                return \"lizard\"\n",
    "            elif gesture == \"4\":\n",
    "                return \"spock\"\n",
    "        print(\"\\nWrong option. Please Try Again.\\n\")\n",
    "\n",
    "def who_win(g_cpu, g_user):\n",
    "    \"\"\"\n",
    "    Bonus bölüme ek olarak lizard ve spock değerleri de eklendi\n",
    "    \"\"\"\n",
    "    if g_cpu == \"rock\" and g_user == \"rock\": return 0\n",
    "    elif g_cpu == \"scissors\" and g_user == \"scissors\": return 0\n",
    "    elif g_cpu == \"paper\" and g_user == \"paper\": return 0\n",
    "    elif g_cpu == \"lizard\" and g_user == \"lizard\": return 0\n",
    "    elif g_cpu == \"spock\" and g_user == \"spock\": return 0\n",
    "    elif g_cpu == \"rock\" and g_user in [\"scissors\", \"lizard\"]: return 1\n",
    "    elif g_cpu == \"scissors\" and g_user in [\"paper\", \"lizard\"]: return 1\n",
    "    elif g_cpu == \"paper\" and g_user in [\"rock\", \"spock\"]: return 1\n",
    "    elif g_cpu == \"lizard\" and g_user in [\"spock\", \"paper\"]: return 1\n",
    "    elif g_cpu == \"spock\" and g_user in [\"rock\", \"scissors\"]: return 1\n",
    "    elif g_cpu == \"rock\" and g_user in [\"paper\", \"spock\"]: return 2\n",
    "    elif g_cpu == \"scissors\" and g_user in [\"rock\", \"spock\"]: return 2\n",
    "    elif g_cpu == \"paper\" and g_user in [\"scissors\", \"lizard\"]: return 2\n",
    "    elif g_cpu == \"lizard\" and g_user in [\"scissors\", \"rock\"]: return 2\n",
    "    elif g_cpu == \"spock\" and g_user in [\"paper\", \"lizard\"]: return 2\n",
    "    \n",
    "    \n",
    "def game_result(cpu_guess, user_guess, win_result):\n",
    "    print(\"The choice of the computer:\", cpu_guess)\n",
    "    print(\"The choice of the user:\", user_guess)\n",
    "    if win_result == 0:\n",
    "        print(\"Tie\")\n",
    "    elif win_result == 1:\n",
    "        print(\"Cpu wins\")\n",
    "    elif win_result == 2:\n",
    "        print(\"User wins\")\n",
    "    return win_result\n",
    "\n",
    "is_game_over = False\n",
    "game_round = 0\n",
    "cpu_score = player_score = 0\n",
    "n_rounds, rounds_to_win = ask_round_number()\n",
    "\n",
    "while not is_game_over:\n",
    "    cpu_choice = get_gesture(gestures)\n",
    "    player_choice = ask_gesture()\n",
    "    result = game_result(cpu_choice, player_choice, who_win(cpu_choice, player_choice))\n",
    "    \n",
    "    if result == 0:\n",
    "        pass\n",
    "    elif result == 1:\n",
    "        cpu_score += 1\n",
    "    elif result == 2:\n",
    "        player_score += 1\n",
    "    \n",
    "    game_round += 1\n",
    "    \n",
    "    if game_round == n_rounds or cpu_score == rounds_to_win or player_score == rounds_to_win:\n",
    "        is_game_over = True\n",
    "        print(\"Game Over\")\n",
    "\n",
    "if player_score > cpu_score:\n",
    "    print(\"Player Won The Game\")\n",
    "elif player_score < cpu_score:\n",
    "    print(\"Cpu Won The Game\")\n",
    "else:\n",
    "    print(\"Tie\")"
   ]
  }
 ],
 "metadata": {
  "kernelspec": {
   "display_name": "Python 3",
   "language": "python",
   "name": "python3"
  },
  "language_info": {
   "codemirror_mode": {
    "name": "ipython",
    "version": 3
   },
   "file_extension": ".py",
   "mimetype": "text/x-python",
   "name": "python",
   "nbconvert_exporter": "python",
   "pygments_lexer": "ipython3",
   "version": "3.8.8"
  }
 },
 "nbformat": 4,
 "nbformat_minor": 4
}
