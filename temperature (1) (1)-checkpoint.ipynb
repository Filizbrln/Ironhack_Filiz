{
 "cells": [
  {
   "cell_type": "markdown",
   "metadata": {},
   "source": [
    "<img src=\"https://bit.ly/2VnXWr2\" width=\"100\" align=\"left\">"
   ]
  },
  {
   "cell_type": "markdown",
   "metadata": {},
   "source": [
    "# Temperature Sensor\n",
    "\n",
    "There is a temperature sensor in the processor of your company's server. The company wants to analyze the data provided by the sensor to decide if they should change the cooling system for a better one. As changing the cooling system is expensive and you are an excellent data analyst, you can't make a decision without basis.\n",
    "\n",
    "## Tools\n",
    "You don't necessarily need to use all the tools. Maybe you opt to use some of them or completely different ones, they are given to help you shape the exercise. Programming exercises can be solved in many different ways.\n",
    "1. Data structures: **lists**\n",
    "2. Loops: **list comprehension**\n",
    "3. Functions: **min, max, print, len**\n",
    "4. Conditional statements: **if-elif-else**\n",
    "\n",
    "## Tasks\n",
    "The temperatures measured throughout the 24 hours of a day are:"
   ]
  },
  {
   "cell_type": "code",
   "execution_count": 1,
   "metadata": {},
   "outputs": [],
   "source": [
    "temperatures_C = [33, 66, 65, 0, 59, 60, 62, 64, 70, 76, 80, 81, 80, 83, 90, 79, 61, 53, 50, 49, 53, 48, 45, 39]"
   ]
  },
  {
   "cell_type": "markdown",
   "metadata": {},
   "source": [
    "The first element of the list is the temperature at 12am, the second element is the temperature at 1am, and so on. \n",
    "\n",
    "The company has decided that if one of the following events occurs, then the cooling system needs to be replaced for a new one to avoid damaging the processor.\n",
    "* More than 4 temperatures are greater than or equal to 70ºC.\n",
    "* Any temperature is above 80ºC.\n",
    "* The average temperature exceeds 65ºC.\n",
    "\n",
    "Follow the steps so that you can make the decision."
   ]
  },
  {
   "cell_type": "markdown",
   "metadata": {},
   "source": [
    "## Cemal'den Özet\n",
    "\n",
    "Burada amacımız yukarıda verilen sıcaklık değerlerine bakarak soğutucumuzu değiştirmemize gerek olup olmadığına karar vereceğiz. Bir nevi karar destek sistemi yazıyoruz. Bazı notlar:\n",
    "\n",
    "\n",
    "* Liste saat bakımından 0, 1, 2, ..., 13, 14, 15, ..., 21, 22, 23 saatlerine karşılık sıcaklık sensörünün değerini celsius (C) cinsinden göstermekte.\n",
    "\n",
    "\n",
    "* 4'ten fazla 70 dereceye eşit ve üzerinde sıcaklık değeri var ise,\n",
    "* Herhangi bir sıcaklık değeri 80'in üzerinde ise,\n",
    "* Ortalama sıcaklık değeri 65'in üzerinde ise \n",
    "\n",
    "Yukarıdakilerden en az biri oluyorsa şirket mevcut soğutucunun değiştirilmesini destekliyor."
   ]
  },
  {
   "cell_type": "markdown",
   "metadata": {},
   "source": [
    "#### 1. Find the minimum temperature of the day and store it in a variable."
   ]
  },
  {
   "cell_type": "code",
   "execution_count": 2,
   "metadata": {},
   "outputs": [],
   "source": [
    "min_temp = min(temperatures_C) # min sıcaklığı bul"
   ]
  },
  {
   "cell_type": "markdown",
   "metadata": {},
   "source": [
    "#### 2. Find the maximum temperature of the day and store it in a variable."
   ]
  },
  {
   "cell_type": "code",
   "execution_count": 3,
   "metadata": {},
   "outputs": [],
   "source": [
    "max_temp = max(temperatures_C) # max sıcaklığı bul"
   ]
  },
  {
   "cell_type": "markdown",
   "metadata": {},
   "source": [
    "#### 3. Create a list with the temperatures that are greater than or equal to 70ºC. Store it in a variable."
   ]
  },
  {
   "cell_type": "code",
   "execution_count": 4,
   "metadata": {},
   "outputs": [],
   "source": [
    "# sıcaklık değeri 70 dereceye eşit ve fazla olanları bir listede topla \n",
    "greater_than_70_temp = [temp for temp in temperatures_C if temp >= 70] "
   ]
  },
  {
   "cell_type": "markdown",
   "metadata": {},
   "source": [
    "#### 4. Find the average temperature of the day and store it in a variable."
   ]
  },
  {
   "cell_type": "code",
   "execution_count": 6,
   "metadata": {},
   "outputs": [],
   "source": [
    "# ortalama sıcaklığı bul\n",
    "total_temps = 0\n",
    "\n",
    "for temp in temperatures_C:\n",
    "    total_temps += temp\n",
    "\n",
    "average_temp = total_temps / len(temperatures_C)"
   ]
  },
  {
   "cell_type": "markdown",
   "metadata": {},
   "source": [
    "#### 5. Imagine that there was a sensor failure at 3am and the data for that specific hour was not recorded. How would you estimate the missing value? Replace the current value of the list at 3am for an estimation. "
   ]
  },
  {
   "cell_type": "code",
   "execution_count": 7,
   "metadata": {},
   "outputs": [],
   "source": [
    "# Soru kısaca şu: saat gece 3'te sensöz arıza yapıyor ve sıcaklık değeri eksik kalıyor\n",
    "# Bu eksikliği hangi değerler doldurusunuz? \n",
    "temperatures_C[3] = average_temp # ben ortalama ile doldurdum"
   ]
  },
  {
   "cell_type": "markdown",
   "metadata": {},
   "source": [
    "#### 6. Bonus: the maintenance staff is from the United States and does not understand the international metric system. Help them by converting the temperatures from Celsius to Fahrenheit.\n",
    "To know more about temperature conversion check this [link](https://en.wikipedia.org/wiki/Conversion_of_units_of_temperature).\n",
    "\n",
    "**Formula**: \n",
    "\n",
    "$F = 1.8 * C + 32$"
   ]
  },
  {
   "cell_type": "code",
   "execution_count": 8,
   "metadata": {},
   "outputs": [],
   "source": [
    "# celsius değerlerini Fahrenheit değerlerine çevirme\n",
    "temperatures_F = [(1.8 * C * 32) for C in temperatures_C]"
   ]
  },
  {
   "cell_type": "markdown",
   "metadata": {},
   "source": [
    "#### 7. Make a decision!\n",
    "Now it's time to make a decision taking into account what you have seen until now. \n",
    "\n",
    "Remember that if one of the following events occurs, then the cooling system needs to be replaced for a new one to avoid damaging the processor.\n",
    "* More than 4 temperatures are greater than or equal to 70ºC.\n",
    "* Any temperature is above 80ºC.\n",
    "* The average temperature exceeds 65ºC.\n",
    "\n",
    "#### To make your decision, check if any of the three conditions above is met. You might need to use some of the variables you created in steps 1 to 6. Print a message to show if the cooling system needs to be changed or not."
   ]
  },
  {
   "cell_type": "code",
   "execution_count": 10,
   "metadata": {},
   "outputs": [
    {
     "name": "stdout",
     "output_type": "stream",
     "text": [
      "Replace cooling system.\n"
     ]
    }
   ],
   "source": [
    "# karar ver!\n",
    "# 70 derece ve üzeri en az 4 kez tekrarlandıysa veya\n",
    "# 80 derece ve üzerinde en az bir değer varsa veya\n",
    "# Ortalama sıcaklık değeri 65'ten üstü ise\n",
    "# Soğutma sistemini değiştir, değilse değiştirme.\n",
    "\n",
    "if (len(greater_than_70_temp) > 4) or (max_temp > 80) or (average_temp > 65):\n",
    "    print(\"Replace cooling system.\")\n",
    "else:\n",
    "    print(\"Don't replace cooling system\")"
   ]
  },
  {
   "cell_type": "markdown",
   "metadata": {},
   "source": [
    "## Bonus\n",
    "\n",
    "The company has decided that the decision you made is not valid. They want you to analyze the data again but this time, the conditions that need to be met in order to change the cooling system are different.\n",
    "\n",
    "This time, if one of the following events occurs, then the cooling system needs to be replaced:\n",
    "* The temperature is greater than 70ºC during more than 4 consecutive hours.\n",
    "* Any temperature is above 80ºC.\n",
    "* The average temperature exceeds 65ºC.\n",
    "\n",
    "Follow the steps so that you can make the decision."
   ]
  },
  {
   "cell_type": "markdown",
   "metadata": {},
   "source": [
    "## Cemal'den Özet\n",
    "\n",
    "Şirket kararımızı beğenmedi. Aşağıdaki yeni şartlara göre karar vermemizi istiyor:\n",
    "\n",
    "* 4 saat üst üste 70 derecenin üzerinde ise,\n",
    "* Herhangi bir sıcaklık değeri 80'in üzerinde ise,\n",
    "* Ortalama sıcaklık değeri 65'in üzerinde ise \n",
    "\n",
    "Yukarıdakilerden en az biri oluyorsa şirket mevcut soğutucunun değiştirilmesini destekliyor."
   ]
  },
  {
   "cell_type": "markdown",
   "metadata": {},
   "source": [
    "#### 1. Create a list with the hours where the temperature is greater than 70ºC. Store it in a variable."
   ]
  },
  {
   "cell_type": "code",
   "execution_count": 11,
   "metadata": {},
   "outputs": [
    {
     "data": {
      "text/plain": [
       "[9, 10, 11, 12, 13, 14, 15]"
      ]
     },
     "execution_count": 11,
     "metadata": {},
     "output_type": "execute_result"
    }
   ],
   "source": [
    "# burada istenen şu, 70'derecenin üzerinde olan saatleri getirmek\n",
    "temp_hour_list = [i for i in range(24) if temperatures_C[i] > 70]\n",
    "temp_hour_list"
   ]
  },
  {
   "cell_type": "markdown",
   "metadata": {},
   "source": [
    "#### 2. Check if the list you created in step 1 has more than 4 consecutive hours. "
   ]
  },
  {
   "cell_type": "code",
   "execution_count": 15,
   "metadata": {},
   "outputs": [],
   "source": [
    "# burada istenen şu, art arda 4 saat boyunca 70'in üzerinde mi tespit etmek\n",
    "counter = 0\n",
    "for i in range(len(temp_hour_list)): # yukarıdaki listenin indekslerinde gez\n",
    "    if temp_hour_list[i + 1] - temp_hour_list[i] == 1: # eğer bir sonraki indeks ile mevcut indeks arasındaki fark 1 ise\n",
    "        counter += 1 # sayaca 1 ekle\n",
    "    else:\n",
    "        counter = 0 # eğer yukarıdaki şart uymaz ise sayacı sıfırla\n",
    "    \n",
    "    if counter == 4: # sayaç 4'e geldiğinde\n",
    "        break # döngüden çık"
   ]
  },
  {
   "cell_type": "markdown",
   "metadata": {},
   "source": [
    "#### 3. Make the decision!\n",
    "To make your decision, check if any of the three conditions is met. Print a message to show if the cooling system needs to be changed or not."
   ]
  },
  {
   "cell_type": "code",
   "execution_count": 22,
   "metadata": {},
   "outputs": [
    {
     "name": "stdout",
     "output_type": "stream",
     "text": [
      "Replace cooling system.\n"
     ]
    }
   ],
   "source": [
    "# karar ver!\n",
    "# 4 saat üst üste 70 derece ve üzeri sıcaklık varsa veya\n",
    "# 80 derece ve üzerinde en az bir değer varsa veya\n",
    "# Ortalama sıcaklık değeri 65'ten üstü ise\n",
    "# Soğutma sistemini değiştir, değilse değiştirme.\n",
    "\n",
    "if (counter == 4) or (max_temp > 80) or (average_temp > 65):\n",
    "    print(\"Replace cooling system.\")\n",
    "else:\n",
    "    print(\"Don't replace cooling system\")"
   ]
  },
  {
   "cell_type": "markdown",
   "metadata": {},
   "source": [
    "#### 4. Find the average value of the temperature lists (ºC and ºF). What is the relation between both average values?"
   ]
  },
  {
   "cell_type": "code",
   "execution_count": 18,
   "metadata": {},
   "outputs": [
    {
     "name": "stdout",
     "output_type": "stream",
     "text": [
      "C average: 62.760416666666664\n"
     ]
    }
   ],
   "source": [
    "# Celsius derece otalama\n",
    "total_temps = 0 \n",
    "for i in range(len(temperatures_C)):\n",
    "    total_temps += temperatures_C[i]\n",
    "\n",
    "temp_C_average = total_temps/len(temperatures_C) \n",
    "print(\"C average:\", temp_C_average)"
   ]
  },
  {
   "cell_type": "code",
   "execution_count": 19,
   "metadata": {},
   "outputs": [
    {
     "name": "stdout",
     "output_type": "stream",
     "text": [
      "F average: 3615.0\n"
     ]
    }
   ],
   "source": [
    "# Fahrenheit derece otalama\n",
    "total_temps = 0\n",
    "for i in range(len(temperatures_F)):\n",
    "    total_temps += temperatures_F[i]\n",
    "\n",
    "temp_F_average = total_temps/len(temperatures_F) \n",
    "print(\"F average:\", temp_F_average)"
   ]
  },
  {
   "cell_type": "markdown",
   "metadata": {},
   "source": [
    "#### 5. Find the standard deviation of the temperature lists (ºC and ºF). What is the relation between both standard deviations?"
   ]
  },
  {
   "cell_type": "code",
   "execution_count": 20,
   "metadata": {},
   "outputs": [
    {
     "name": "stdout",
     "output_type": "stream",
     "text": [
      "C standard deviation: 14.64181354863719\n"
     ]
    }
   ],
   "source": [
    "# Celsius derece standart sapma\n",
    "temp_total_C = 0\n",
    "for i in range(len(temperatures_C)):\n",
    "    temp_total_C += (temperatures_C[i] - temp_C_average) ** 2\n",
    "\n",
    "temp_C_std = (temp_total_C / len(temperatures_C)) ** (1 / 2) \n",
    "print(\"C standard deviation:\", temp_C_std)"
   ]
  },
  {
   "cell_type": "code",
   "execution_count": 21,
   "metadata": {},
   "outputs": [
    {
     "name": "stdout",
     "output_type": "stream",
     "text": [
      "F standard deviation: 843.368460401502\n"
     ]
    }
   ],
   "source": [
    "# Fahrenheit derece standart sapma\n",
    "temp_total_F = 0\n",
    "for i in range(len(temperatures_F)):\n",
    "    temp_total_F += (temperatures_F[i] - temp_F_average) ** 2\n",
    "\n",
    "temp_F_std = (temp_total_F / len(temperatures_F)) ** (1 / 2)\n",
    "print(\"F standard deviation:\", temp_F_std)"
   ]
  }
 ],
 "metadata": {
  "kernelspec": {
   "display_name": "Python 3",
   "language": "python",
   "name": "python3"
  },
  "language_info": {
   "codemirror_mode": {
    "name": "ipython",
    "version": 3
   },
   "file_extension": ".py",
   "mimetype": "text/x-python",
   "name": "python",
   "nbconvert_exporter": "python",
   "pygments_lexer": "ipython3",
   "version": "3.8.8"
  }
 },
 "nbformat": 4,
 "nbformat_minor": 4
}
