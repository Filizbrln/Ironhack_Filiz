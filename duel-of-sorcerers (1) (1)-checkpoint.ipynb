{
 "cells": [
  {
   "cell_type": "markdown",
   "metadata": {},
   "source": [
    "<img src=\"https://bit.ly/2VnXWr2\" width=\"100\" align=\"left\">"
   ]
  },
  {
   "cell_type": "markdown",
   "metadata": {},
   "source": [
    "Projedeki amaç gandalf ve saruman büyücülerinin her bir döngüde kazananı ve kaybedeni belirlemek."
   ]
  },
  {
   "cell_type": "markdown",
   "metadata": {},
   "source": [
    "# Duel of Sorcerers\n",
    "You are witnessing an epic battle between two powerful sorcerers: Gandalf and Saruman. Each sorcerer has 10 spells of variable power in their mind and they are going to throw them one after the other. The winner of the duel will be the one who wins more of those clashes between spells. Spells are represented as a list of 10 integers whose value equals the power of the spell.\n",
    "```\n",
    "gandalf = [10, 11, 13, 30, 22, 11, 10, 33, 22, 22]\n",
    "saruman = [23, 66, 12, 43, 12, 10, 44, 23, 12, 17]\n",
    "```\n",
    "For example:\n",
    "- The first clash is won by Saruman: 10 against 23.\n",
    "- The second clash is won by Saruman: 11 against 66.\n",
    "- ...\n",
    "\n",
    "You will create two variables, one for each sorcerer, where the sum of clashes won will be stored. Depending on which variable is greater at the end of the duel, you will show one of the following three results on the screen:\n",
    "* Gandalf wins\n",
    "* Saruman wins\n",
    "* Tie\n",
    "\n",
    "<img src=\"images/content_lightning_bolt_big.jpg\" width=\"400\">"
   ]
  },
  {
   "cell_type": "markdown",
   "metadata": {},
   "source": [
    "## Tools\n",
    "You don't necessarily need to use all the tools. Maybe you opt to use some of them or completely different ones, they are given to help you shape the exercise. Programming exercises can be solved in many different ways.\n",
    "\n",
    "1. Data structures: **lists, dictionaries**\n",
    "2. Loop: **for loop**\n",
    "3. Conditional statements: **if-elif-else**\n",
    "4. Functions: **range(), len(), print()**\n",
    "\n",
    "## Tasks\n",
    "\n",
    "#### 1. Create two variables called `gandalf` and `saruman` and assign them the spell power lists. Create a variable called `spells` to store the number of spells that the sorcerers cast. "
   ]
  },
  {
   "cell_type": "code",
   "execution_count": 4,
   "metadata": {},
   "outputs": [],
   "source": [
    "# gandalf ve saruman adında iki değişken oluştur ve toplam büyü sayısını sakla \n",
    "gandalf = [10, 11, 13, 30, 22, 11, 10, 33, 22, 22] # gandalf'ın büyülerine karşılık gelen güç puanları\n",
    "saruman = [23, 66, 12, 43, 12, 10, 44, 23, 12, 17] # saruman'ın büyülerine karşılık gelen güç puanları\n",
    "spells = len(gandalf) # toplam büyü sayısı"
   ]
  },
  {
   "cell_type": "markdown",
   "metadata": {},
   "source": [
    "#### 2. Create two variables called `gandalf_wins` and `saruman_wins`. Set both of them to 0. \n",
    "You will use these variables to count the number of clashes each sorcerer wins."
   ]
  },
  {
   "cell_type": "code",
   "execution_count": 5,
   "metadata": {},
   "outputs": [],
   "source": [
    "# gandalf_wins ve saruman_wins adında ik değişken oluştur ve 0 değerini ata\n",
    "gandalf_wins = saruman_wins = 0 # aynı değer birden fazla değişkene bu şekilde atanır."
   ]
  },
  {
   "cell_type": "markdown",
   "metadata": {},
   "source": [
    "#### 3. Using the lists of spells of both sorcerers, update variables `gandalf_wins` and `saruman_wins` to count the number of times each sorcerer wins a clash."
   ]
  },
  {
   "cell_type": "code",
   "execution_count": 6,
   "metadata": {},
   "outputs": [],
   "source": [
    "# bir döngü kurarak gandalf'ın ve saruman'ın kaçar kez kazandığını tutun.\n",
    "\n",
    "for i in range(spells): # büyü sayısı kadar dön\n",
    "    if gandalf[i] > saruman[i]: gandalf_wins += 1 # eğer gandalf'ın puanı saruman'ın puanından büyük ise gandalf'ın skorunu 1 artır\n",
    "    elif saruman[i] > gandalf[i]: saruman_wins += 1 # eğer saruman'ın puanı gandalf'ın puanından büyük ise saruman'ın skorunu 1 artır"
   ]
  },
  {
   "cell_type": "markdown",
   "metadata": {},
   "source": [
    "#### 4. Who won the battle?\n",
    "Print `Gandalf wins`, `Saruman wins` or `Tie` depending on the result. "
   ]
  },
  {
   "cell_type": "code",
   "execution_count": 7,
   "metadata": {},
   "outputs": [
    {
     "name": "stdout",
     "output_type": "stream",
     "text": [
      "Gandalf wins\n"
     ]
    }
   ],
   "source": [
    "# gandalf ve saruman'ın kazanma sayılarına göre yukarıdaki çıktıları ekrana yazdır.\n",
    "if gandalf_wins > saruman_wins: print(\"Gandalf wins\") # gandalf'ın galibiyet sayısı saruman'dan fazla ise\n",
    "elif gandalf_wins < saruman_wins: print(\"Saruman wins\") # saruman'ın galibiyet sayısı gandalf'tan fazla ise\n",
    "elif gandalf_wins == saruman_wins: print(\"Tie\") # galibiyet sayıları birbirine eşit ise"
   ]
  },
  {
   "cell_type": "markdown",
   "metadata": {},
   "source": [
    "## Bonus\n",
    "\n",
    "In this bonus challenge, you'll need to check the winner of the battle but this time, a sorcerer wins if he succeeds in winning 3 spell clashes in a row.\n",
    "\n",
    "Also, the spells now have a name and there is a dictionary that associates that name to a power.\n",
    "\n",
    "```\n",
    "POWER = {\n",
    "    'Fireball': 50, \n",
    "    'Lightning bolt': 40, \n",
    "    'Magic arrow': 10, \n",
    "    'Black Tentacles': 25, \n",
    "    'Contagion': 45\n",
    "}\n",
    "\n",
    "gandalf = ['Fireball', 'Lightning bolt', 'Lightning bolt', 'Magic arrow', 'Fireball', \n",
    "           'Magic arrow', 'Lightning bolt', 'Fireball', 'Fireball', 'Fireball']\n",
    "saruman = ['Contagion', 'Contagion', 'Black Tentacles', 'Fireball', 'Black Tentacles', \n",
    "           'Lightning bolt', 'Magic arrow', 'Contagion', 'Magic arrow', 'Magic arrow']\n",
    "```\n",
    "\n",
    "#### 1. Create variables `POWER`, `gandalf` and `saruman` as seen above. Create a variable called `spells` to store the number of spells that the sorcerers cast. "
   ]
  },
  {
   "cell_type": "code",
   "execution_count": 8,
   "metadata": {},
   "outputs": [],
   "source": [
    "# Bu bonus mücadelede, savaşın kazananını kontrol etmeniz gerekecek, \n",
    "# ancak bu sefer arka arkaya 3 büyü çatışması kazanmayı başaran bir büyücü kazanır.\n",
    "\n",
    "# yapılan büyülerin güçleri\n",
    "POWER = {'Fireball': 50, 'Lightning bolt': 40, 'Magic arrow': 10, 'Black Tentacles': 25, 'Contagion': 45} \n",
    "\n",
    "# gandalf'ın yaptığı büyüler\n",
    "gandalf = ['Fireball', 'Lightning bolt', 'Lightning bolt', 'Magic arrow', 'Fireball', \n",
    "           'Magic arrow', 'Lightning bolt', 'Fireball', 'Fireball', 'Fireball']\n",
    "\n",
    "# saruman'ın yaptığı büyüler\n",
    "saruman = ['Contagion', 'Contagion', 'Black Tentacles', 'Fireball', 'Black Tentacles', \n",
    "           'Lightning bolt', 'Magic arrow', 'Contagion', 'Magic arrow', 'Magic arrow']\n",
    "\n",
    "# toplam büyü sayısı\n",
    "spells = len(saruman)"
   ]
  },
  {
   "cell_type": "markdown",
   "metadata": {},
   "source": [
    "#### 2. Create two variables called `gandalf_wins` and `saruman_wins`. Set both of them to 0. "
   ]
  },
  {
   "cell_type": "code",
   "execution_count": null,
   "metadata": {},
   "outputs": [],
   "source": [
    "# gandalf_wins ve saruman_wins adında ik değişken oluştur ve 0 değerini ata\n",
    "gandalf_wins = saruman_wins = 0 # aynı değer birden fazla değişkene bu şekilde atanır."
   ]
  },
  {
   "cell_type": "markdown",
   "metadata": {},
   "source": [
    "#### 3. Create two variables called `gandalf_power` and `saruman_power` to store the list of spell powers of each sorcerer."
   ]
  },
  {
   "cell_type": "code",
   "execution_count": 9,
   "metadata": {},
   "outputs": [],
   "source": [
    "# gandalf'taki ve saruman'daki büyülerin güç karşılıklarının bulunması\n",
    "gandalf_power = [POWER[spell] for spell in gandalf] # gandalf'ta bulunan büyülerin sayısal karşılıkları\n",
    "saruman_power = [POWER[spell] for spell in saruman] # saruman'da bulunan büyülerin sayısal karşılıkları"
   ]
  },
  {
   "cell_type": "code",
   "execution_count": 11,
   "metadata": {},
   "outputs": [
    {
     "data": {
      "text/plain": [
       "[50, 40, 40, 10, 50, 10, 40, 50, 50, 50]"
      ]
     },
     "execution_count": 11,
     "metadata": {},
     "output_type": "execute_result"
    }
   ],
   "source": [
    "gandalf_power"
   ]
  },
  {
   "cell_type": "code",
   "execution_count": 12,
   "metadata": {},
   "outputs": [
    {
     "data": {
      "text/plain": [
       "[45, 45, 25, 50, 25, 40, 10, 45, 10, 10]"
      ]
     },
     "execution_count": 12,
     "metadata": {},
     "output_type": "execute_result"
    }
   ],
   "source": [
    "saruman_power"
   ]
  },
  {
   "cell_type": "markdown",
   "metadata": {},
   "source": [
    "#### 4. The battle starts! Using the variables you've created above, code the execution of spell clashes. Remember that a sorcerer wins if he succeeds in winning 3 spell clashes in a row. \n",
    "If a clash ends up in a tie, the counter of wins in a row is not restarted to 0. Remember to print who is the winner of the battle. "
   ]
  },
  {
   "cell_type": "code",
   "execution_count": 10,
   "metadata": {},
   "outputs": [
    {
     "name": "stdout",
     "output_type": "stream",
     "text": [
      "Gandalf wins\n"
     ]
    }
   ],
   "source": [
    "# amacımız şu, art arda 3 win alan büyücü kazanır.\n",
    "for i in range(spells): # büyü sayısı kadar dön\n",
    "    if gandalf_power[i] > saruman_power[i]: # eğer gandalf galip ise\n",
    "        gandalf_wins += 1 # gandalf'ın kazanma sayısını artır\n",
    "        saruman_wins = 0 # saruman'ın kazanma sayısını sıfırla\n",
    "    elif gandalf_power[i] < saruman_power[i]: # eğer saruman galip ise\n",
    "        gandalf_wins = 0 # gandalf'ın kazanma sayısını sıfırla\n",
    "        saruman_wins += 1 # saruman'ın kazanma sayısını artır\n",
    "    \n",
    "    if gandalf_wins == 3: \n",
    "        print(\"Gandalf wins\") # eğer art arda 3 kez gandalf kazanmış ise Gandalf wins yaz \n",
    "        break # döngüden çık\n",
    "    elif saruman_wins == 3:\n",
    "        print(\"Saruman wins\") # eğer art arda 3 kez saruman kazanmış ise Saruman wins yaz \n",
    "        break # döngüden çık"
   ]
  },
  {
   "cell_type": "markdown",
   "metadata": {},
   "source": [
    "#### 5. Find the average spell power of Gandalf and Saruman. "
   ]
  },
  {
   "cell_type": "code",
   "execution_count": 19,
   "metadata": {},
   "outputs": [
    {
     "name": "stdout",
     "output_type": "stream",
     "text": [
      "Gandalf average: 39.0\n"
     ]
    }
   ],
   "source": [
    "gandalf_total_spell_power = 0 # gandalf toplam güç puanı\n",
    "for i in range(spells):\n",
    "    gandalf_total_spell_power += gandalf_power[i]\n",
    "\n",
    "gandalf_power_average = gandalf_total_spell_power/spells # gandalf ortalma güç puanı\n",
    "print(\"Gandalf average:\", gandalf_power_average)"
   ]
  },
  {
   "cell_type": "code",
   "execution_count": 18,
   "metadata": {},
   "outputs": [
    {
     "name": "stdout",
     "output_type": "stream",
     "text": [
      "Saruman average: 30.5\n"
     ]
    }
   ],
   "source": [
    "saruman_total_spell_power = 0 # saruman toplam güç puanı\n",
    "for i in range(spells):\n",
    "    saruman_total_spell_power += saruman_power[i]\n",
    "\n",
    "saruman_power_average = saruman_total_spell_power/spells # saruman ortalama güç puanı\n",
    "print(\"Saruman average:\", saruman_power_average)"
   ]
  },
  {
   "cell_type": "markdown",
   "metadata": {},
   "source": [
    "#### 6. Find the standard deviation of the spell power of Gandalf and Saruman. "
   ]
  },
  {
   "cell_type": "code",
   "execution_count": 20,
   "metadata": {},
   "outputs": [
    {
     "name": "stdout",
     "output_type": "stream",
     "text": [
      "Gandalf standard deviation: 15.132745950421556\n"
     ]
    }
   ],
   "source": [
    "temp_total_gandalf = 0\n",
    "for i in range(spells):\n",
    "    temp_total_gandalf += (gandalf_power[i] - gandalf_power_average) ** 2\n",
    "\n",
    "gandalf_power_std = (temp_total_gandalf / spells) ** (1 / 2)\n",
    "print(\"Gandalf standard deviation:\", gandalf_power_std)"
   ]
  },
  {
   "cell_type": "code",
   "execution_count": 21,
   "metadata": {},
   "outputs": [
    {
     "name": "stdout",
     "output_type": "stream",
     "text": [
      "Gandalf standard deviation: 15.56438241627338\n"
     ]
    }
   ],
   "source": [
    "temp_total_saruman = 0\n",
    "for i in range(spells):\n",
    "    temp_total_saruman += (saruman_power[i] - saruman_power_average) ** 2\n",
    "\n",
    "saruman_power_std = (temp_total_saruman / spells) ** (1 / 2)\n",
    "print(\"Gandalf standard deviation:\", saruman_power_std)"
   ]
  }
 ],
 "metadata": {
  "kernelspec": {
   "display_name": "Python 3",
   "language": "python",
   "name": "python3"
  },
  "language_info": {
   "codemirror_mode": {
    "name": "ipython",
    "version": 3
   },
   "file_extension": ".py",
   "mimetype": "text/x-python",
   "name": "python",
   "nbconvert_exporter": "python",
   "pygments_lexer": "ipython3",
   "version": "3.8.8"
  }
 },
 "nbformat": 4,
 "nbformat_minor": 4
}
